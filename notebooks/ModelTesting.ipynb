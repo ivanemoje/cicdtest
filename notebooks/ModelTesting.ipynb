{
 "cells": [
  {
   "cell_type": "code",
   "execution_count": 9,
   "metadata": {},
   "outputs": [
    {
     "name": "stdout",
     "output_type": "stream",
     "text": [
      "Random value 223\n",
      "{'predicted': 23.594478607177734}\n"
     ]
    }
   ],
   "source": [
    "import requests\n",
    "\n",
    "url = \"http://localhost/predict\"\n",
    "headers = {\n",
    "    \"Content-Type\": \"application/json\",\n",
    "    \"token\": \"1337\",\n",
    "    \"Postman-Token\": \"9a75cc9b-f940-40a0-9cb0-f02986e1e16d\",  # This header can be ignored\n",
    "    \"cache-control\": \"no-cache\",  # This header can be ignored\n",
    "}\n",
    "\n",
    "import random\n",
    "\n",
    "random_value = random.randint(200, 500)\n",
    "print(f'Random value {random_value}')\n",
    "\n",
    "payload = {\n",
    "    \"CRIM\": 0.06724,\n",
    "    \"ZN\": 0.0,\n",
    "    \"INDUS\": 3.55,\n",
    "    \"CHAS\": 0.0,\n",
    "    \"NOX\": 0.46,\n",
    "    \"RM\": 6.333,\n",
    "    \"AGE\": 37.2,\n",
    "    \"DIS\": 5.2146,\n",
    "    \"RAD\": 4.0,\n",
    "    \"TAX\": 430.0,\n",
    "    \"PTRATIO\": 16.9,\n",
    "    \"B\": random_value,\n",
    "    \"LSTAT\": 7.34\n",
    "}\n",
    "\n",
    "response = requests.post(url, json=payload, headers=headers)\n",
    "\n",
    "print(response.json())\n"
   ]
  },
  {
   "cell_type": "code",
   "execution_count": 12,
   "metadata": {},
   "outputs": [
    {
     "name": "stdout",
     "output_type": "stream",
     "text": [
      "{'predicted': 723767.0}\n"
     ]
    }
   ],
   "source": [
    "import requests\n",
    "\n",
    "url = \"http://localhost/predictpickle\"\n",
    "headers = {\n",
    "    \"Content-Type\": \"application/json\",\n",
    "    \"token\": \"1337\",\n",
    "}\n",
    "params = {\n",
    "    \"area\": 4000  # Adjust this value as needed\n",
    "}\n",
    "\n",
    "response = requests.post(url, headers=headers, params=params)\n",
    "\n",
    "print(response.json())\n"
   ]
  },
  {
   "cell_type": "code",
   "execution_count": null,
   "metadata": {},
   "outputs": [],
   "source": []
  }
 ],
 "metadata": {
  "kernelspec": {
   "display_name": "Python 3",
   "language": "python",
   "name": "python3"
  },
  "language_info": {
   "codemirror_mode": {
    "name": "ipython",
    "version": 3
   },
   "file_extension": ".py",
   "mimetype": "text/x-python",
   "name": "python",
   "nbconvert_exporter": "python",
   "pygments_lexer": "ipython3",
   "version": "3.11.3"
  }
 },
 "nbformat": 4,
 "nbformat_minor": 2
}
